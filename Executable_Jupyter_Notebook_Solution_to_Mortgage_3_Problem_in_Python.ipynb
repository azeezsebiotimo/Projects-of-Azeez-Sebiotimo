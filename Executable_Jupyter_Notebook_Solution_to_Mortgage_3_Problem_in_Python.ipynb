{
  "nbformat": 4,
  "nbformat_minor": 0,
  "metadata": {
    "colab": {
      "provenance": [],
      "authorship_tag": "ABX9TyPVut5/zyVr9Gx6N0xC0jlV",
      "include_colab_link": true
    },
    "kernelspec": {
      "name": "python3",
      "display_name": "Python 3"
    },
    "language_info": {
      "name": "python"
    }
  },
  "cells": [
    {
      "cell_type": "markdown",
      "metadata": {
        "id": "view-in-github",
        "colab_type": "text"
      },
      "source": [
        "<a href=\"https://colab.research.google.com/github/azeezsebiotimo/Projects-of-Azeez-Sebiotimo/blob/main/Executable_Jupyter_Notebook_Solution_to_Mortgage_3_Problem_in_Python.ipynb\" target=\"_parent\"><img src=\"https://colab.research.google.com/assets/colab-badge.svg\" alt=\"Open In Colab\"/></a>"
      ]
    },
    {
      "cell_type": "code",
      "execution_count": null,
      "metadata": {
        "colab": {
          "base_uri": "https://localhost:8080/"
        },
        "id": "ii-g4RAFcUVE",
        "outputId": "44907378-8b5c-4c49-ec69-6cc422fd102b"
      },
      "outputs": [
        {
          "output_type": "stream",
          "name": "stdout",
          "text": [
            "Looking in indexes: https://pypi.org/simple, https://us-python.pkg.dev/colab-wheels/public/simple/\n",
            "Collecting numpy-financial\n",
            "  Downloading numpy_financial-1.0.0-py3-none-any.whl (14 kB)\n",
            "Requirement already satisfied: numpy>=1.15 in /usr/local/lib/python3.9/dist-packages (from numpy-financial) (1.22.4)\n",
            "Installing collected packages: numpy-financial\n",
            "Successfully installed numpy-financial-1.0.0\n"
          ]
        }
      ],
      "source": [
        "pip install numpy-financial"
      ]
    },
    {
      "cell_type": "code",
      "source": [
        "# Solution to Mortgage 3 Problem : Mortgage 3 = A 7-1 Adjustable-Rate Mortgage (ARM) with loan amortization Over 30 Years   \n",
        "# Loan amount is $1,000, 000 ;  Loan term/tenor is 360 months ( 30 years) with fixed interest for the first 7 years of 1.2% and \n",
        "# variable interest rates for the remaining years\n",
        "\n",
        "import pandas as pd\n",
        "\n",
        "# To define the fixed and varaible interest rates\n",
        "\n",
        "interest_rate_first_7_years = 1.2\n",
        "interest_rates = [(interest_rate_first_7_years + x / 12) for x in range(24)]\n",
        "\n",
        "years = list(range(1, 31))\n",
        "interest_rates_full = [interest_rate_first_7_years] * 7 + interest_rates\n",
        "\n",
        "print(f\"{'Years':20}{'Interest Rate'}\")\n",
        "print(\"-\"*32)\n",
        "for period in range(len(years)):\n",
        "    print(f'{years[period]:1}{interest_rates_full[period+1]/100:23.2%}')"
      ],
      "metadata": {
        "id": "pUJVvO7Dc64t"
      },
      "execution_count": null,
      "outputs": []
    },
    {
      "cell_type": "markdown",
      "source": [],
      "metadata": {
        "id": "kjpkaNPbOXwl"
      }
    },
    {
      "cell_type": "code",
      "source": [
        "pip install numpy-financial"
      ],
      "metadata": {
        "id": "RAN_bpZVlFom",
        "colab": {
          "base_uri": "https://localhost:8080/"
        },
        "outputId": "807a51a9-6f22-43bb-db4f-2608f238093f"
      },
      "execution_count": null,
      "outputs": [
        {
          "output_type": "stream",
          "name": "stdout",
          "text": [
            "Looking in indexes: https://pypi.org/simple, https://us-python.pkg.dev/colab-wheels/public/simple/\n",
            "Collecting numpy-financial\n",
            "  Downloading numpy_financial-1.0.0-py3-none-any.whl (14 kB)\n",
            "Requirement already satisfied: numpy>=1.15 in /usr/local/lib/python3.9/dist-packages (from numpy-financial) (1.22.4)\n",
            "Installing collected packages: numpy-financial\n",
            "Successfully installed numpy-financial-1.0.0\n"
          ]
        }
      ]
    },
    {
      "cell_type": "code",
      "source": [
        "import numpy_financial as npf\n",
        "import pandas as pd\n",
        "\n",
        "loan_amount = 1000000\n",
        "interest_rate_first_84_months = 1.2\n",
        "interest_rates = [1.2] * 84 + [1.28] * 12 + [1.37] * 12 + [1.45] * 12 + [1.53] * 12 + [1.62] * 12 + [1.70] * 12 + [1.78] * 12 + [1.87] * 12 + [1.95] * 12 + [2.03] * 12 + [2.12] * 12 + [2.20] * 12 + [2.28] * 12 + [2.37] * 12 + [2.45] * 12 + [2.53] * 12 + [2.62] * 12 + [2.70] * 12 + [2.78] * 12 + [2.87] * 12 + [2.95] * 12 + [3.03] * 12 + [3.12] * 12\n",
        "\n",
        "months = list(range(1, 361))\n",
        "results = []\n",
        "for month in months:\n",
        "    interest_rate = interest_rates[month-1]\n",
        "    monthly_rate = interest_rate / 1200\n",
        "    monthly_payment = npf.pmt(monthly_rate, 360, loan_amount)\n",
        "    results.append((month, interest_rate, monthly_payment))\n",
        "\n",
        "print(\"Months\\tInterest Rate\\tMonthly Payment\")\n",
        "print(\"-\"*100)\n",
        "for month, interest_rate, monthly_payment in results:\n",
        "    print(f\"{month}\\t{interest_rate:.2f}%\\t\\t${-monthly_payment:.2f}\")\n",
        "\n",
        "# create an empty DataFrame to store the results\n",
        "amortization_schedule = pd.DataFrame(index=months, columns=[\"Beginning Balance\", \"Interest Rate\", \"Monthly Payment\", \"Interest Paid\", \"Principal Paid\", \"Ending Balance\"])\n",
        "\n",
        "# set the initial values\n",
        "beginning_balance = loan_amount\n",
        "ending_balance = loan_amount\n",
        "\n",
        "# calculate the values for each row\n",
        "for month in months:\n",
        "    interest_rate = interest_rates[month-1]\n",
        "    monthly_rate = interest_rate / 1200\n",
        "    monthly_payment = -npf.pmt(monthly_rate, 360, loan_amount)\n",
        "    \n",
        "    interest_paid = abs(beginning_balance * monthly_rate)\n",
        "    principal_paid = abs(monthly_payment - interest_paid)\n",
        "    ending_balance = abs(beginning_balance - principal_paid)\n",
        "    if month == 360:\n",
        "        ending_balance = 0\n",
        "    amortization_schedule.loc[month] = [abs(beginning_balance), interest_rate, monthly_payment, interest_paid, principal_paid, ending_balance]\n",
        "    beginning_balance = ending_balance\n",
        "\n",
        "amortization_schedule[\"Beginning Balance\"] = amortization_schedule[\"Beginning Balance\"].astype(float).map(\"${:,.2f}\".format)\n",
        "amortization_schedule[\"Interest Rate\"] = amortization_schedule[\"Interest Rate\"].astype(float).map(\"{:.2f}%\".format)\n",
        "amortization_schedule[\"Monthly Payment\"] = amortization_schedule[\"Monthly Payment\"].astype(float).map(\"${:.2f}\".format)\n",
        "amortization_schedule[\"Interest Paid\"] = amortization_schedule[\"Interest Paid\"].astype(float).map(\"${:.2f}\".format)\n",
        "amortization_schedule[\"Principal Paid\"] = amortization_schedule[\"Principal Paid\"].astype(float).map(\"${:.2f}\".format)\n",
        "amortization_schedule[\"Ending Balance\"] = amortization_schedule[\"Ending Balance\"].astype(float).map(\"${:,.2f}\".format)\n",
        "\n",
        "print (amortization_schedule)"
      ],
      "metadata": {
        "id": "i4426mWQ709_"
      },
      "execution_count": null,
      "outputs": []
    },
    {
      "cell_type": "code",
      "source": [
        "\n",
        "+--------------+----------------+\n"
      ],
      "metadata": {
        "colab": {
          "base_uri": "https://localhost:8080/",
          "height": 131
        },
        "id": "sbH8t8w4wVpg",
        "outputId": "fc46b8a1-3646-4df9-e279-956a3e9f44b1"
      },
      "execution_count": null,
      "outputs": [
        {
          "output_type": "error",
          "ename": "SyntaxError",
          "evalue": "ignored",
          "traceback": [
            "\u001b[0;36m  File \u001b[0;32m\"<ipython-input-1-bf76e42f7377>\"\u001b[0;36m, line \u001b[0;32m1\u001b[0m\n\u001b[0;31m    +--------------+----------------+\u001b[0m\n\u001b[0m                                     ^\u001b[0m\n\u001b[0;31mSyntaxError\u001b[0m\u001b[0;31m:\u001b[0m invalid syntax\n"
          ]
        }
      ]
    }
  ]
}